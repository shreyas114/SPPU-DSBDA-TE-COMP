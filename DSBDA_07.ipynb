{
 "cells": [
  {
   "cell_type": "code",
   "execution_count": 2,
   "id": "7871c034-39fa-4a0e-99ca-1144d2f5aa7d",
   "metadata": {},
   "outputs": [
    {
     "data": {
      "text/plain": [
       "\"the quick brown fox jumps over the lazy dog. dogs are domesticated mammals, not natural wild animals. they were originally bred from wolves. they have been bred by humans for a long time, and were the first animals ever to be domesticated. today, some dogs are used as pets, others are used to help humans do their work. they are a popular pet because they are usually playful, friendly, loyal and listen to humans. they can be trained to be guide dogs for the blind or police dogs, which help law enforcement with searching for drugs or missing people. dogs are often called 'man's best friend' because of how loyal they are to their owners and how they can provide companionship.\""
      ]
     },
     "execution_count": 2,
     "metadata": {},
     "output_type": "execute_result"
    }
   ],
   "source": [
    "text = \"The quick brown fox jumps over the lazy dog. Dogs are domesticated mammals, not natural wild animals. They were originally bred from wolves. They have been bred by humans for a long time, and were the first animals ever to be domesticated. Today, some dogs are used as pets, others are used to help humans do their work. They are a popular pet because they are usually playful, friendly, loyal and listen to humans. They can be trained to be guide dogs for the blind or police dogs, which help law enforcement with searching for drugs or missing people. Dogs are often called 'man's best friend' because of how loyal they are to their owners and how they can provide companionship.\"\n",
    "text = text.lower()\n",
    "text"
   ]
  },
  {
   "cell_type": "code",
   "execution_count": 3,
   "id": "f84086c4-3f11-4a32-b105-759b8ec2a909",
   "metadata": {},
   "outputs": [
    {
     "name": "stdout",
     "output_type": "stream",
     "text": [
      "!\"#$%&'()*+,-./:;<=>?@[\\]^_`{|}~\n"
     ]
    }
   ],
   "source": [
    "import string\n",
    "print(string.punctuation)"
   ]
  },
  {
   "cell_type": "code",
   "execution_count": 6,
   "id": "d2b27923-402c-4898-bff2-64bede9c47f5",
   "metadata": {},
   "outputs": [
    {
     "data": {
      "text/plain": [
       "'the quick brown fox jumps over the lazy dog dogs are domesticated mammals not natural wild animals they were originally bred from wolves they have been bred by humans for a long time and were the first animals ever to be domesticated today some dogs are used as pets others are used to help humans do their work they are a popular pet because they are usually playful friendly loyal and listen to humans they can be trained to be guide dogs for the blind or police dogs which help law enforcement with searching for drugs or missing people dogs are often called mans best friend because of how loyal they are to their owners and how they can provide companionship'"
      ]
     },
     "execution_count": 6,
     "metadata": {},
     "output_type": "execute_result"
    }
   ],
   "source": [
    "text_p = \"\"\n",
    "for char in text:\n",
    "    if char not in string.punctuation:\n",
    "        text_p += char\n",
    "text_p"
   ]
  },
  {
   "cell_type": "code",
   "execution_count": 9,
   "id": "8bee07c5-13d8-40a0-847a-bd122bb1025d",
   "metadata": {},
   "outputs": [
    {
     "name": "stderr",
     "output_type": "stream",
     "text": [
      "[nltk_data] Downloading package punkt to\n",
      "[nltk_data]     C:\\Users\\shrey\\AppData\\Roaming\\nltk_data...\n",
      "[nltk_data]   Unzipping tokenizers\\punkt.zip.\n"
     ]
    },
    {
     "data": {
      "text/plain": [
       "['the',\n",
       " 'quick',\n",
       " 'brown',\n",
       " 'fox',\n",
       " 'jumps',\n",
       " 'over',\n",
       " 'the',\n",
       " 'lazy',\n",
       " 'dog',\n",
       " 'dogs',\n",
       " 'are',\n",
       " 'domesticated',\n",
       " 'mammals',\n",
       " 'not',\n",
       " 'natural',\n",
       " 'wild',\n",
       " 'animals',\n",
       " 'they',\n",
       " 'were',\n",
       " 'originally',\n",
       " 'bred',\n",
       " 'from',\n",
       " 'wolves',\n",
       " 'they',\n",
       " 'have',\n",
       " 'been',\n",
       " 'bred',\n",
       " 'by',\n",
       " 'humans',\n",
       " 'for',\n",
       " 'a',\n",
       " 'long',\n",
       " 'time',\n",
       " 'and',\n",
       " 'were',\n",
       " 'the',\n",
       " 'first',\n",
       " 'animals',\n",
       " 'ever',\n",
       " 'to',\n",
       " 'be',\n",
       " 'domesticated',\n",
       " 'today',\n",
       " 'some',\n",
       " 'dogs',\n",
       " 'are',\n",
       " 'used',\n",
       " 'as',\n",
       " 'pets',\n",
       " 'others',\n",
       " 'are',\n",
       " 'used',\n",
       " 'to',\n",
       " 'help',\n",
       " 'humans',\n",
       " 'do',\n",
       " 'their',\n",
       " 'work',\n",
       " 'they',\n",
       " 'are',\n",
       " 'a',\n",
       " 'popular',\n",
       " 'pet',\n",
       " 'because',\n",
       " 'they',\n",
       " 'are',\n",
       " 'usually',\n",
       " 'playful',\n",
       " 'friendly',\n",
       " 'loyal',\n",
       " 'and',\n",
       " 'listen',\n",
       " 'to',\n",
       " 'humans',\n",
       " 'they',\n",
       " 'can',\n",
       " 'be',\n",
       " 'trained',\n",
       " 'to',\n",
       " 'be',\n",
       " 'guide',\n",
       " 'dogs',\n",
       " 'for',\n",
       " 'the',\n",
       " 'blind',\n",
       " 'or',\n",
       " 'police',\n",
       " 'dogs',\n",
       " 'which',\n",
       " 'help',\n",
       " 'law',\n",
       " 'enforcement',\n",
       " 'with',\n",
       " 'searching',\n",
       " 'for',\n",
       " 'drugs',\n",
       " 'or',\n",
       " 'missing',\n",
       " 'people',\n",
       " 'dogs',\n",
       " 'are',\n",
       " 'often',\n",
       " 'called',\n",
       " 'mans',\n",
       " 'best',\n",
       " 'friend',\n",
       " 'because',\n",
       " 'of',\n",
       " 'how',\n",
       " 'loyal',\n",
       " 'they',\n",
       " 'are',\n",
       " 'to',\n",
       " 'their',\n",
       " 'owners',\n",
       " 'and',\n",
       " 'how',\n",
       " 'they',\n",
       " 'can',\n",
       " 'provide',\n",
       " 'companionship']"
      ]
     },
     "execution_count": 9,
     "metadata": {},
     "output_type": "execute_result"
    }
   ],
   "source": [
    "from nltk import word_tokenize\n",
    "import nltk\n",
    "nltk.download('punkt')\n",
    "words = word_tokenize(text_p)\n",
    "words"
   ]
  },
  {
   "cell_type": "code",
   "execution_count": 11,
   "id": "dbe10736-cbef-4656-870c-774a030a4720",
   "metadata": {},
   "outputs": [
    {
     "name": "stderr",
     "output_type": "stream",
     "text": [
      "[nltk_data] Downloading package stopwords to\n",
      "[nltk_data]     C:\\Users\\shrey\\AppData\\Roaming\\nltk_data...\n"
     ]
    },
    {
     "name": "stdout",
     "output_type": "stream",
     "text": [
      "['i', 'me', 'my', 'myself', 'we', 'our', 'ours', 'ourselves', 'you', \"you're\", \"you've\", \"you'll\", \"you'd\", 'your', 'yours', 'yourself', 'yourselves', 'he', 'him', 'his', 'himself', 'she', \"she's\", 'her', 'hers', 'herself', 'it', \"it's\", 'its', 'itself', 'they', 'them', 'their', 'theirs', 'themselves', 'what', 'which', 'who', 'whom', 'this', 'that', \"that'll\", 'these', 'those', 'am', 'is', 'are', 'was', 'were', 'be', 'been', 'being', 'have', 'has', 'had', 'having', 'do', 'does', 'did', 'doing', 'a', 'an', 'the', 'and', 'but', 'if', 'or', 'because', 'as', 'until', 'while', 'of', 'at', 'by', 'for', 'with', 'about', 'against', 'between', 'into', 'through', 'during', 'before', 'after', 'above', 'below', 'to', 'from', 'up', 'down', 'in', 'out', 'on', 'off', 'over', 'under', 'again', 'further', 'then', 'once', 'here', 'there', 'when', 'where', 'why', 'how', 'all', 'any', 'both', 'each', 'few', 'more', 'most', 'other', 'some', 'such', 'no', 'nor', 'not', 'only', 'own', 'same', 'so', 'than', 'too', 'very', 's', 't', 'can', 'will', 'just', 'don', \"don't\", 'should', \"should've\", 'now', 'd', 'll', 'm', 'o', 're', 've', 'y', 'ain', 'aren', \"aren't\", 'couldn', \"couldn't\", 'didn', \"didn't\", 'doesn', \"doesn't\", 'hadn', \"hadn't\", 'hasn', \"hasn't\", 'haven', \"haven't\", 'isn', \"isn't\", 'ma', 'mightn', \"mightn't\", 'mustn', \"mustn't\", 'needn', \"needn't\", 'shan', \"shan't\", 'shouldn', \"shouldn't\", 'wasn', \"wasn't\", 'weren', \"weren't\", 'won', \"won't\", 'wouldn', \"wouldn't\"]\n"
     ]
    },
    {
     "name": "stderr",
     "output_type": "stream",
     "text": [
      "[nltk_data]   Unzipping corpora\\stopwords.zip.\n"
     ]
    }
   ],
   "source": [
    "nltk.download('stopwords')\n",
    "from nltk.corpus import stopwords\n",
    "stop_words = stopwords.words('english')\n",
    "print(stop_words)"
   ]
  },
  {
   "cell_type": "code",
   "execution_count": 12,
   "id": "3a36d263-8342-4adf-a85c-084c9a3dc541",
   "metadata": {},
   "outputs": [
    {
     "name": "stdout",
     "output_type": "stream",
     "text": [
      "['quick', 'brown', 'fox', 'jumps', 'lazy', 'dog', 'dogs', 'domesticated', 'mammals', 'natural', 'wild', 'animals', 'originally', 'bred', 'wolves', 'bred', 'humans', 'long', 'time', 'first', 'animals', 'ever', 'domesticated', 'today', 'dogs', 'used', 'pets', 'others', 'used', 'help', 'humans', 'work', 'popular', 'pet', 'usually', 'playful', 'friendly', 'loyal', 'listen', 'humans', 'trained', 'guide', 'dogs', 'blind', 'police', 'dogs', 'help', 'law', 'enforcement', 'searching', 'drugs', 'missing', 'people', 'dogs', 'often', 'called', 'mans', 'best', 'friend', 'loyal', 'owners', 'provide', 'companionship']\n"
     ]
    }
   ],
   "source": [
    "filtered_words = []\n",
    "for word in words:\n",
    "    if word not in stop_words:\n",
    "        filtered_words.append(word)\n",
    "print(filtered_words)"
   ]
  },
  {
   "cell_type": "code",
   "execution_count": 16,
   "id": "eef38662-3d47-4d69-b1fe-5c390579da9f",
   "metadata": {},
   "outputs": [
    {
     "name": "stdout",
     "output_type": "stream",
     "text": [
      "['quick', 'brown', 'fox', 'jump', 'lazi', 'dog', 'dog', 'domest', 'mammal', 'natur', 'wild', 'anim', 'origin', 'bred', 'wolv', 'bred', 'human', 'long', 'time', 'first', 'anim', 'ever', 'domest', 'today', 'dog', 'use', 'pet', 'other', 'use', 'help', 'human', 'work', 'popular', 'pet', 'usual', 'play', 'friendli', 'loyal', 'listen', 'human', 'train', 'guid', 'dog', 'blind', 'polic', 'dog', 'help', 'law', 'enforc', 'search', 'drug', 'miss', 'peopl', 'dog', 'often', 'call', 'man', 'best', 'friend', 'loyal', 'owner', 'provid', 'companionship']\n"
     ]
    }
   ],
   "source": [
    "from nltk.stem.porter import PorterStemmer\n",
    "porter = PorterStemmer()\n",
    "stemmed = []\n",
    "for word in filtered_words:\n",
    "    stemmed.append(porter.stem(word))\n",
    "print(stemmed)"
   ]
  },
  {
   "cell_type": "code",
   "execution_count": 19,
   "id": "aea6277e-da85-48c1-a9ce-de0b443dbfc8",
   "metadata": {},
   "outputs": [
    {
     "name": "stderr",
     "output_type": "stream",
     "text": [
      "[nltk_data] Downloading package wordnet to\n",
      "[nltk_data]     C:\\Users\\shrey\\AppData\\Roaming\\nltk_data...\n"
     ]
    },
    {
     "name": "stdout",
     "output_type": "stream",
     "text": [
      "['quick', 'brown', 'fox', 'jump', 'lazy', 'dog', 'dog', 'domesticated', 'mammal', 'natural', 'wild', 'animal', 'originally', 'bred', 'wolf', 'bred', 'human', 'long', 'time', 'first', 'animal', 'ever', 'domesticated', 'today', 'dog', 'used', 'pet', 'others', 'used', 'help', 'human', 'work', 'popular', 'pet', 'usually', 'playful', 'friendly', 'loyal', 'listen', 'human', 'trained', 'guide', 'dog', 'blind', 'police', 'dog', 'help', 'law', 'enforcement', 'searching', 'drug', 'missing', 'people', 'dog', 'often', 'called', 'man', 'best', 'friend', 'loyal', 'owner', 'provide', 'companionship']\n"
     ]
    }
   ],
   "source": [
    "nltk.download('wordnet')\n",
    "from nltk.stem import WordNetLemmatizer\n",
    "lemmatizer = WordNetLemmatizer()\n",
    "out_lemma = []\n",
    "for i in filtered_words:\n",
    "    out_lemma.append(lemmatizer.lemmatize(i))\n",
    "print(out_lemma)"
   ]
  },
  {
   "cell_type": "code",
   "execution_count": 23,
   "id": "d4b95a99-0712-46af-8502-28f4916e5490",
   "metadata": {},
   "outputs": [
    {
     "name": "stderr",
     "output_type": "stream",
     "text": [
      "[nltk_data] Downloading package averaged_perceptron_tagger to\n",
      "[nltk_data]     C:\\Users\\shrey\\AppData\\Roaming\\nltk_data...\n"
     ]
    },
    {
     "name": "stdout",
     "output_type": "stream",
     "text": [
      "[('quick', 'JJ'), ('brown', 'NN'), ('fox', 'NN'), ('jumps', 'NNS'), ('lazy', 'JJ'), ('dog', 'JJ'), ('dogs', 'NNS'), ('domesticated', 'VBN'), ('mammals', 'NNS'), ('natural', 'JJ'), ('wild', 'JJ'), ('animals', 'NNS'), ('originally', 'RB'), ('bred', 'VBD'), ('wolves', 'NNS'), ('bred', 'VBD'), ('humans', 'NNS'), ('long', 'JJ'), ('time', 'NN'), ('first', 'JJ'), ('animals', 'NNS'), ('ever', 'RB'), ('domesticated', 'VBD'), ('today', 'NN'), ('dogs', 'NNS'), ('used', 'VBN'), ('pets', 'NNS'), ('others', 'NNS'), ('used', 'VBD'), ('help', 'NN'), ('humans', 'NNS'), ('work', 'VBP'), ('popular', 'JJ'), ('pet', 'NN'), ('usually', 'RB'), ('playful', 'JJ'), ('friendly', 'JJ'), ('loyal', 'JJ'), ('listen', 'NNS'), ('humans', 'NNS'), ('trained', 'VBD'), ('guide', 'JJ'), ('dogs', 'NNS'), ('blind', 'IN'), ('police', 'JJ'), ('dogs', 'NNS'), ('help', 'VBP'), ('law', 'NN'), ('enforcement', 'NN'), ('searching', 'VBG'), ('drugs', 'NNS'), ('missing', 'VBG'), ('people', 'NNS'), ('dogs', 'NNS'), ('often', 'RB'), ('called', 'VBD'), ('mans', 'NNS'), ('best', 'JJS'), ('friend', 'NN'), ('loyal', 'NN'), ('owners', 'NNS'), ('provide', 'VBP'), ('companionship', 'NN')]\n"
     ]
    },
    {
     "name": "stderr",
     "output_type": "stream",
     "text": [
      "[nltk_data]   Unzipping taggers\\averaged_perceptron_tagger.zip.\n"
     ]
    }
   ],
   "source": [
    "nltk.download('averaged_perceptron_tagger')\n",
    "from nltk import pos_tag\n",
    "pos = pos_tag(filtered_words)\n",
    "print(pos)"
   ]
  },
  {
   "cell_type": "code",
   "execution_count": 30,
   "id": "c835e52b-79ed-41d4-b201-3c52e787a89d",
   "metadata": {},
   "outputs": [
    {
     "name": "stdout",
     "output_type": "stream",
     "text": [
      "Word indexes\n",
      "{'shreyas': 1, 'joshi': 0, 'subodh': 2}\n",
      "tf-idf\n",
      "  (0, 1)\t1.0\n",
      "  (1, 0)\t0.7071067811865476\n",
      "  (1, 1)\t0.7071067811865476\n",
      "  (2, 2)\t0.7959605415681652\n",
      "  (2, 0)\t0.6053485081062916\n",
      "idf vals\n",
      "joshi  :  1.2876820724517808\n",
      "shreyas  :  1.2876820724517808\n",
      "subodh  :  1.6931471805599454\n"
     ]
    }
   ],
   "source": [
    "from sklearn.feature_extraction.text import TfidfVectorizer\n",
    "\n",
    "d0 = 'shreyas'\n",
    "d1 = 'shreyas joshi'\n",
    "d2 = 'subodh joshi'\n",
    "\n",
    "string = [d0,d1,d2]\n",
    "tfidf = TfidfVectorizer()\n",
    "result = tfidf.fit_transform(string)\n",
    "\n",
    "print(\"Word indexes\")\n",
    "print(tfidf.vocabulary_)\n",
    "\n",
    "print(\"tf-idf\")\n",
    "print(result)\n",
    "\n",
    "print(\"idf vals\")\n",
    "for i,j in zip(tfidf.get_feature_names_out(),tfidf.idf_):\n",
    "    print(i,\" : \", j)"
   ]
  },
  {
   "cell_type": "code",
   "execution_count": null,
   "id": "6d446f35-ac3b-484a-8dcf-655a7bc547ed",
   "metadata": {},
   "outputs": [],
   "source": []
  }
 ],
 "metadata": {
  "kernelspec": {
   "display_name": "Python 3 (ipykernel)",
   "language": "python",
   "name": "python3"
  },
  "language_info": {
   "codemirror_mode": {
    "name": "ipython",
    "version": 3
   },
   "file_extension": ".py",
   "mimetype": "text/x-python",
   "name": "python",
   "nbconvert_exporter": "python",
   "pygments_lexer": "ipython3",
   "version": "3.10.11"
  }
 },
 "nbformat": 4,
 "nbformat_minor": 5
}
